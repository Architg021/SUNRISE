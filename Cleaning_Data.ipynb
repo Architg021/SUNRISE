{
  "nbformat": 4,
  "nbformat_minor": 0,
  "metadata": {
    "colab": {
      "provenance": [],
      "authorship_tag": "ABX9TyONt7db8q7kKIdYgIYs+klQ",
      "include_colab_link": true
    },
    "kernelspec": {
      "name": "python3",
      "display_name": "Python 3"
    },
    "language_info": {
      "name": "python"
    }
  },
  "cells": [
    {
      "cell_type": "markdown",
      "metadata": {
        "id": "view-in-github",
        "colab_type": "text"
      },
      "source": [
        "<a href=\"https://colab.research.google.com/github/Architg021/SUNRISE/blob/main/Cleaning_Data.ipynb\" target=\"_parent\"><img src=\"https://colab.research.google.com/assets/colab-badge.svg\" alt=\"Open In Colab\"/></a>"
      ]
    },
    {
      "cell_type": "code",
      "execution_count": null,
      "metadata": {
        "id": "bHvpZH1JN2jb"
      },
      "outputs": [],
      "source": [
        "import pandas as pd\n",
        "from scipy.stats import zscore\n",
        "from sklearn.preprocessing import StandardScaler\n"
      ]
    },
    {
      "cell_type": "markdown",
      "source": [
        " Load the dataset"
      ],
      "metadata": {
        "id": "RCQrsJZqOI98"
      }
    },
    {
      "cell_type": "code",
      "source": [
        "file_path = \"/content/AB_NYC_2019.csv\"\n",
        "df = pd.read_csv(file_path)\n"
      ],
      "metadata": {
        "id": "ew-8BxPsOLhU"
      },
      "execution_count": null,
      "outputs": []
    },
    {
      "cell_type": "markdown",
      "source": [
        "1. Data Integrity Check"
      ],
      "metadata": {
        "id": "vtUN0fvPO7pv"
      }
    },
    {
      "cell_type": "code",
      "source": [
        "print(\"Initial Dataset Shape:\", df.shape)\n",
        "print(\"Columns:\\n\", df.columns)\n",
        "print(\"\\nSummary of Missing Values:\\n\", df.isnull().sum())\n"
      ],
      "metadata": {
        "colab": {
          "base_uri": "https://localhost:8080/"
        },
        "id": "1ftIuBIqO891",
        "outputId": "a1699ede-6786-4667-d04d-db6aa6019711"
      },
      "execution_count": null,
      "outputs": [
        {
          "output_type": "stream",
          "name": "stdout",
          "text": [
            "Initial Dataset Shape: (48895, 16)\n",
            "Columns:\n",
            " Index(['id', 'name', 'host_id', 'host_name', 'neighbourhood_group',\n",
            "       'neighbourhood', 'latitude', 'longitude', 'room_type', 'price',\n",
            "       'minimum_nights', 'number_of_reviews', 'last_review',\n",
            "       'reviews_per_month', 'calculated_host_listings_count',\n",
            "       'availability_365'],\n",
            "      dtype='object')\n",
            "\n",
            "Summary of Missing Values:\n",
            " id                                    0\n",
            "name                                 16\n",
            "host_id                               0\n",
            "host_name                            21\n",
            "neighbourhood_group                   0\n",
            "neighbourhood                         0\n",
            "latitude                              0\n",
            "longitude                             0\n",
            "room_type                             0\n",
            "price                                 0\n",
            "minimum_nights                        0\n",
            "number_of_reviews                     0\n",
            "last_review                       10052\n",
            "reviews_per_month                 10052\n",
            "calculated_host_listings_count        0\n",
            "availability_365                      0\n",
            "dtype: int64\n"
          ]
        }
      ]
    },
    {
      "cell_type": "code",
      "source": [
        "# Replace placeholders like '-999' or '?' with NaN\n",
        "df.replace([-999, '?'], pd.NA, inplace=True)\n"
      ],
      "metadata": {
        "id": "3yjl980OPFzO"
      },
      "execution_count": null,
      "outputs": []
    },
    {
      "cell_type": "markdown",
      "source": [
        "2. Handle Missing Values\n"
      ],
      "metadata": {
        "id": "N_YHANM0PJ3l"
      }
    },
    {
      "cell_type": "code",
      "source": [
        "# Drop columns with too many missing values (>50% missing)\n",
        "threshold = len(df) * 0.5\n",
        "df = df.dropna(axis=1, thresh=threshold)\n",
        "\n",
        "# Fill remaining missing values\n",
        "for column in df.columns:\n",
        "    if df[column].dtype == 'object':  # Categorical columns\n",
        "        df[column].fillna(df[column].mode()[0], inplace=True)\n",
        "    else:  # Numeric columns\n",
        "        df[column].fillna(df[column].median(), inplace=True)\n"
      ],
      "metadata": {
        "colab": {
          "base_uri": "https://localhost:8080/"
        },
        "id": "Oi9tTz9HPKSd",
        "outputId": "522e7a13-05ae-4f41-c5d5-fdd902d4bb3a"
      },
      "execution_count": null,
      "outputs": [
        {
          "output_type": "stream",
          "name": "stderr",
          "text": [
            "<ipython-input-6-3c53ed943507>:10: FutureWarning: A value is trying to be set on a copy of a DataFrame or Series through chained assignment using an inplace method.\n",
            "The behavior will change in pandas 3.0. This inplace method will never work because the intermediate object on which we are setting values always behaves as a copy.\n",
            "\n",
            "For example, when doing 'df[col].method(value, inplace=True)', try using 'df.method({col: value}, inplace=True)' or df[col] = df[col].method(value) instead, to perform the operation inplace on the original object.\n",
            "\n",
            "\n",
            "  df[column].fillna(df[column].median(), inplace=True)\n",
            "<ipython-input-6-3c53ed943507>:8: FutureWarning: A value is trying to be set on a copy of a DataFrame or Series through chained assignment using an inplace method.\n",
            "The behavior will change in pandas 3.0. This inplace method will never work because the intermediate object on which we are setting values always behaves as a copy.\n",
            "\n",
            "For example, when doing 'df[col].method(value, inplace=True)', try using 'df.method({col: value}, inplace=True)' or df[col] = df[col].method(value) instead, to perform the operation inplace on the original object.\n",
            "\n",
            "\n",
            "  df[column].fillna(df[column].mode()[0], inplace=True)\n"
          ]
        }
      ]
    },
    {
      "cell_type": "markdown",
      "source": [
        "3. Rename and Normalize Columns\n"
      ],
      "metadata": {
        "id": "e_1bGkp-PTJY"
      }
    },
    {
      "cell_type": "code",
      "source": [
        "df.rename(columns=lambda x: x.strip().replace(\" \", \"_\").lower(), inplace=True)\n",
        "for column in df.select_dtypes(include=['object']):\n",
        "    df[column] = df[column].str.strip().str.lower()"
      ],
      "metadata": {
        "id": "f4l92E_rPU05"
      },
      "execution_count": null,
      "outputs": []
    },
    {
      "cell_type": "markdown",
      "source": [
        " 4. Remove Duplicates\n"
      ],
      "metadata": {
        "id": "EjFBgnbWPYqD"
      }
    },
    {
      "cell_type": "code",
      "source": [
        "df.drop_duplicates(inplace=True)\n"
      ],
      "metadata": {
        "id": "jm-JbK7DPX3K"
      },
      "execution_count": null,
      "outputs": []
    },
    {
      "cell_type": "markdown",
      "source": [
        " 5. Outlier Detection"
      ],
      "metadata": {
        "id": "4p8e0tz9PiDT"
      }
    },
    {
      "cell_type": "code",
      "source": [
        "numeric_columns = df.select_dtypes(include=['float64', 'int64']).columns\n",
        "\n",
        "# Z-Score Method\n",
        "for column in numeric_columns:\n",
        "    df['zscore'] = zscore(df[column])\n",
        "    df = df[df['zscore'].abs() < 3]  # Keep rows with Z-score < 3\n",
        "\n",
        "# Drop the zscore column (used temporarily for outlier detection)\n",
        "df.drop(columns=['zscore'], inplace=True)\n"
      ],
      "metadata": {
        "colab": {
          "base_uri": "https://localhost:8080/"
        },
        "id": "X616CR1OPgDj",
        "outputId": "f1d4c51e-1436-47c3-fb59-b3916e90f5a6"
      },
      "execution_count": null,
      "outputs": [
        {
          "output_type": "stream",
          "name": "stderr",
          "text": [
            "<ipython-input-10-287829469227>:5: SettingWithCopyWarning: \n",
            "A value is trying to be set on a copy of a slice from a DataFrame.\n",
            "Try using .loc[row_indexer,col_indexer] = value instead\n",
            "\n",
            "See the caveats in the documentation: https://pandas.pydata.org/pandas-docs/stable/user_guide/indexing.html#returning-a-view-versus-a-copy\n",
            "  df['zscore'] = zscore(df[column])\n"
          ]
        }
      ]
    },
    {
      "cell_type": "markdown",
      "source": [
        " 6. Standardize Numeric Columns\n"
      ],
      "metadata": {
        "id": "R_r2UjEiPpWg"
      }
    },
    {
      "cell_type": "code",
      "source": [
        "scaler = StandardScaler()\n",
        "df[numeric_columns] = scaler.fit_transform(df[numeric_columns])\n"
      ],
      "metadata": {
        "id": "OyZK7cYcPoqw"
      },
      "execution_count": null,
      "outputs": []
    },
    {
      "cell_type": "code",
      "source": [
        "# Final Dataset Info\n",
        "print(\"Cleaned Dataset Shape:\", df.shape)\n",
        "print(df.info())\n"
      ],
      "metadata": {
        "colab": {
          "base_uri": "https://localhost:8080/"
        },
        "id": "8NrRr0vgPx6D",
        "outputId": "f91042c7-29bb-493d-aa03-231b560af8d0"
      },
      "execution_count": null,
      "outputs": [
        {
          "output_type": "stream",
          "name": "stdout",
          "text": [
            "Cleaned Dataset Shape: (44074, 16)\n",
            "<class 'pandas.core.frame.DataFrame'>\n",
            "Index: 44074 entries, 0 to 48894\n",
            "Data columns (total 16 columns):\n",
            " #   Column                          Non-Null Count  Dtype  \n",
            "---  ------                          --------------  -----  \n",
            " 0   id                              44074 non-null  float64\n",
            " 1   name                            44074 non-null  object \n",
            " 2   host_id                         44074 non-null  float64\n",
            " 3   host_name                       44074 non-null  object \n",
            " 4   neighbourhood_group             44074 non-null  object \n",
            " 5   neighbourhood                   44074 non-null  object \n",
            " 6   latitude                        44074 non-null  float64\n",
            " 7   longitude                       44074 non-null  float64\n",
            " 8   room_type                       44074 non-null  object \n",
            " 9   price                           44074 non-null  float64\n",
            " 10  minimum_nights                  44074 non-null  float64\n",
            " 11  number_of_reviews               44074 non-null  float64\n",
            " 12  last_review                     44074 non-null  object \n",
            " 13  reviews_per_month               44074 non-null  float64\n",
            " 14  calculated_host_listings_count  44074 non-null  float64\n",
            " 15  availability_365                44074 non-null  float64\n",
            "dtypes: float64(10), object(6)\n",
            "memory usage: 5.7+ MB\n",
            "None\n"
          ]
        }
      ]
    },
    {
      "cell_type": "code",
      "source": [
        "# Save Cleaned Dataset\n",
        "output_path = \"/content/AB_NYC_2019.csv\"\n",
        "df.to_csv(output_path, index=False)\n",
        "print(\"Cleaned Dataset Saved to:\", output_path)\n"
      ],
      "metadata": {
        "colab": {
          "base_uri": "https://localhost:8080/"
        },
        "id": "OBaZwCbEP1ho",
        "outputId": "ddf8f43f-9f78-4199-e0fa-d8abbdaa86ac"
      },
      "execution_count": null,
      "outputs": [
        {
          "output_type": "stream",
          "name": "stdout",
          "text": [
            "Cleaned Dataset Saved to: /content/AB_NYC_2019.csv\n"
          ]
        }
      ]
    }
  ]
}